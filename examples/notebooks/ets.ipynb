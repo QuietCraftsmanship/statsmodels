{
 "cells": [
  {
   "cell_type": "code",
   "execution_count": null,
   "metadata": {},
   "outputs": [],
   "source": [
    "import numpy as np\n",
    "import matplotlib.pyplot as plt\n",
    "import pandas as pd\n",
    "%matplotlib inline\n",
    "from statsmodels.tsa.exponential_smoothing.ets import ETSModel"
   ]
  },
  {
   "cell_type": "code",
   "execution_count": null,
   "metadata": {},
   "outputs": [],
   "source": [
    "plt.rcParams['figure.figsize'] = (12, 8)"
   ]
  },
  {
   "cell_type": "markdown",
   "metadata": {},
   "source": [
    "# ETS models\n",
    "\n",
    "The ETS models are a family of time series models with an underlying state space model consisting of a level component, a trend component (T), a seasonal component (S), and an error term (E).\n",
    "\n",
    "This notebook gives a very brief introduction to these models and shows how they can be used with statsmodels. For a more thorough treatment we refer to [1], chapter 8 (free online resource), on which the implementation in statsmodels and the examples used in this notebook are based.\n",
    "\n",
    "[1] Hyndman, Rob J., and George Athanasopoulos. *Forecasting: principles and practice*, 3rd edition, OTexts, 2019. https://www.otexts.org/fpp3/7 "
   ]
  },
  {
   "cell_type": "markdown",
   "metadata": {},
   "source": [
    "## Simple exponential smoothing\n",
    "\n",
    "The simplest of the ETS models is also known as *simple exponential smoothing*. In ETS terms, it corresponds to the (A, N, N) model, that is, a model with additive errors, no trend, and no seasonality. The state space formulation of Holt's method is:\n",
    "\n",
    "\\begin{align}\n",
    "y_{t} &= y_{t-1} + e_t\\\\\n",
    "l_{t} &= l_{t-1} + \\alpha e_t\\\\\n",
    "\\end{align}\n",
    "\n",
    "This state space formulation can be turned into a different formulation, a forecast and a smoothing equation (as can be done with all ETS models):\n",
    "\n",
    "\\begin{align}\n",
    "\\hat{y}_{t|t-1} &= l_{t-1}\\\\\n",
    "l_{t} &= \\alpha y_{t-1} + (1 - \\alpha) l_{t-1}\n",
    "\\end{align}\n",
    "\n",
    "Here, $\\hat{y}_{t|t-1}$ is the forecast/expectation of $y_t$ given the information of the previous step. In the simple exponential smoothing model, the forecast corresponds to the previous level. The second equation (smoothing equation) calculates the next level as weighted average of the previous level and the previous observation."
   ]
  },
  {
   "cell_type": "code",
   "execution_count": null,
   "metadata": {},
   "outputs": [],
   "source": [
    "oildata = [\n",
    "    111.0091, 130.8284, 141.2871, 154.2278,\n",
    "    162.7409, 192.1665, 240.7997, 304.2174,\n",
    "    384.0046, 429.6622, 359.3169, 437.2519,\n",
    "    468.4008, 424.4353, 487.9794, 509.8284,\n",
    "    506.3473, 340.1842, 240.2589, 219.0328,\n",
    "    172.0747, 252.5901, 221.0711, 276.5188,\n",
    "    271.1480, 342.6186, 428.3558, 442.3946,\n",
    "    432.7851, 437.2497, 437.2092, 445.3641,\n",
    "    453.1950, 454.4096, 422.3789, 456.0371,\n",
    "    440.3866, 425.1944, 486.2052, 500.4291,\n",
    "    521.2759, 508.9476, 488.8889, 509.8706,\n",
    "    456.7229, 473.8166, 525.9509, 549.8338,\n",
    "    542.3405\n",
    "]\n",
    "oil = pd.Series(oildata, index=pd.date_range('1965', '2013', freq='AS'))\n",
    "oil.plot()\n",
    "plt.ylabel(\"Annual oil production in Saudi Arabia (Mt)\");"
   ]
  },
  {
   "cell_type": "markdown",
   "metadata": {},
   "source": [
    "The plot above shows annual oil production in Saudia Arabia in million tonnes. The data are taken from the R package `fpp2` (companion package to prior version [1]).\n",
    "Below you can see how to fit a simple exponential smoothing model using statsmodel's ETS implementation to this data. Additionally, the fit using `forecast` in R is shown as comparison."
   ]
  },
  {
   "cell_type": "code",
   "execution_count": null,
   "metadata": {},
   "outputs": [],
   "source": [
    "model = ETSModel(oil, error='add', trend='add', damped_trend=True)\n",
    "fit = model.fit(maxiter=10000)\n",
    "oil.plot(label='data')\n",
    "fit.fittedvalues.plot(label='Simple exponential smoothing')\n",
    "plt.ylabel(\"Annual oil production in Saudi Arabia (Mt)\");\n",
    "\n",
    "# obtained from R\n",
    "params = [0.99989969, 0.11888177503085334, 0.80000197, 36.46466837, 34.72584983]\n",
    "yhat = model.smooth(params).fittedvalues\n",
    "yhat.plot(label='fitted with R')\n",
    "\n",
    "plt.legend();"
   ]
  },
  {
   "cell_type": "code",
   "execution_count": null,
   "metadata": {},
   "outputs": [],
   "source": [
    "model_heuristic = ETSModel(oil, error='add', trend='add', damped_trend=True,\n",
    "                          initialization_method='heuristic')\n",
    "fit_heuristic = model_heuristic.fit()\n",
    "oil.plot(label='data')\n",
    "fit.fittedvalues.plot(label='estimated')\n",
    "fit_heuristic.fittedvalues.plot(label='heuristic', linestyle='--')\n",
    "plt.ylabel(\"Annual oil production in Saudi Arabia (Mt)\");\n",
    "\n",
    "# obtained from R\n",
    "params = [0.99989969, 0.11888177503085334, 0.80000197, 36.46466837, 34.72584983]\n",
    "yhat = model.smooth(params).fittedvalues\n",
    "yhat.plot(label='with R params', linestyle=':')\n",
    "\n",
    "plt.legend();"
   ]
  },
  {
   "cell_type": "code",
   "execution_count": null,
   "metadata": {},
   "outputs": [],
   "source": [
    "fit_heuristic.summary()"
   ]
  },
  {
   "cell_type": "code",
   "execution_count": null,
   "metadata": {},
   "outputs": [],
   "source": [
    "fit.summary()"
   ]
  },
  {
   "cell_type": "markdown",
   "metadata": {},
   "source": [
    "## Holt-Winters' seasonal method\n",
    "\n",
    "The exponential smoothing method can be modified to incorporate a trend and a seasonal component. In the additive Holt-Winters' method, the seasonal component is added to the rest. This model corresponds to the ETS(A, A, A) model, and has the following state space formulation:\n",
    "\n",
    "\\begin{align}\n",
    "y_t &= l_{t-1} + b_{t-1} + s_{t-m} + e_t\\\\\n",
    "l_{t} &= l_{t-1} + b_{t-1} + \\alpha e_t\\\\\n",
    "b_{t} &= b_{t-1} + \\beta e_t\\\\\n",
    "s_{t} &= s_{t-m} + \\gamma e_t\n",
    "\\end{align}\n",
    "\n"
   ]
  }
 ],
 "metadata": {
  "kernelspec": {
   "display_name": "IPython-statsmodels",
   "language": "python",
   "name": "ipython-statsmodels"
  },
  "language_info": {
   "codemirror_mode": {
    "name": "ipython",
    "version": 3
   },
   "file_extension": ".py",
   "mimetype": "text/x-python",
   "name": "python",
   "nbconvert_exporter": "python",
   "pygments_lexer": "ipython3",
   "version": "3.8.3"
  }
 },
 "nbformat": 4,
 "nbformat_minor": 2
}
