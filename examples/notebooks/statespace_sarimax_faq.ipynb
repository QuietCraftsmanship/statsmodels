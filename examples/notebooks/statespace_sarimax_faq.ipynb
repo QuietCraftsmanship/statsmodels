{
 "cells": [
  {
   "cell_type": "markdown",
   "id": "66195396-2615-48ab-aa26-954532d0bc35",
   "metadata": {},
   "source": [
    "# SARIMAX and ARIMA: Frequently Asked Questions (FAQ)\n",
    "\n",
    "This notebook contains explanations for frequently asked questions.\n",
    "\n",
    "* Comparing trends and exogenous variables in `SARIMAX`, `ARIMA` and `AutoReg`\n",
    "* Reconstructing residuals, fitted values and forecasts in `SARIMAX` and `ARIMA`\n",
    "* Initial residuals in `SARIMAX` and `ARIMA`"
   ]
  },
  {
   "cell_type": "markdown",
   "id": "174cebe5-2bfb-4258-96b0-a292e5cdbcf7",
   "metadata": {},
   "source": [
    "## Comparing trends and exogenous variables in `SARIMAX`, `ARIMA` and `AutoReg`\n",
    "\n",
    "`ARIMA` are formally OLS with ARMA errors.  A basic AR(1) in the OLS with ARMA errors is described as \n",
    "\n",
    "$$\n",
    "\\begin{align}\n",
    "Y_t & = \\delta + \\epsilon_t \\\\\n",
    "\\epsilon_t & = \\rho \\epsilon_{t-1} + \\eta_t \\\\\n",
    "\\eta_t & \\sim WN(0,\\sigma^2) \\\\\n",
    "\\end{align}\n",
    "$$\n",
    "\n",
    "In large samples, $\\hat{\\delta}\\stackrel{p}{\\rightarrow} E[Y]$.\n",
    "\n",
    "`SARIMAX` uses a different representation, so that the model when estimated using `SARIMAX` is\n",
    "\n",
    "$$\n",
    "\\begin{align}\n",
    "Y_t & = \\phi + \\rho Y_{t-1} + \\eta_t \\\\\n",
    "\\eta_t & \\sim WN(0,\\sigma^2) \\\\\n",
    "\\end{align}\n",
    "$$\n",
    "\n",
    "\n",
    "This is the same representation that is used when the model is estimated using OLS (`AutoReg`). In large samples, $\\hat{\\phi}\\stackrel{p}{\\rightarrow} E[Y](1-\\rho)$.\n",
    "\n",
    "In the next cell, we simulate a large sample and verify that these relationship hold in practice."
   ]
  },
  {
   "cell_type": "code",
   "execution_count": null,
   "id": "ba21553a-e571-42ac-b166-b625a50509fe",
   "metadata": {},
   "outputs": [],
   "source": [
    "%matplotlib inline"
   ]
  },
  {
   "cell_type": "code",
   "execution_count": null,
   "id": "fe284c44-b750-4e6e-94d0-b238f364cd7b",
   "metadata": {},
   "outputs": [],
   "source": [
    "import numpy as np\n",
    "import pandas as pd\n",
    "\n",
    "rng = np.random.default_rng(20210819)\n",
    "eta = rng.standard_normal(5000)\n",
    "rho = 0.8\n",
    "beta = 10\n",
    "epsilon = eta.copy()\n",
    "for i in range(1, eta.shape[0]):\n",
    "    epsilon[i] = rho * epsilon[i - 1] + eta[i]\n",
    "y = beta + epsilon"
   ]
  },
  {
   "cell_type": "code",
   "execution_count": null,
   "id": "f02b87c6-ee8f-4bb1-bf08-d252b9277733",
   "metadata": {},
   "outputs": [],
   "source": [
    "from statsmodels.tsa.api import SARIMAX, AutoReg\n",
    "from statsmodels.tsa.arima.model import ARIMA"
   ]
  },
  {
   "cell_type": "markdown",
   "id": "6e8212dc-e259-422f-b10b-3b742e86b36c",
   "metadata": {},
   "source": [
    "The three models are specified and estimated in the next cell.  An AR(0) is included as a reference. The AR(0) is identical using all three estimators."
   ]
  },
  {
   "cell_type": "code",
   "execution_count": null,
   "id": "7200d248-bd47-4c95-9f1c-6daaf1e09bb1",
   "metadata": {},
   "outputs": [],
   "source": [
    "ar0_res = SARIMAX(y, order=(0, 0, 0), trend=\"c\").fit()\n",
    "sarimax_res = SARIMAX(y, order=(1, 0, 0), trend=\"c\").fit()\n",
    "arima_res = ARIMA(y, order=(1, 0, 0), trend=\"c\").fit()\n",
    "autoreg_res = AutoReg(y, 1, trend=\"c\").fit()"
   ]
  },
  {
   "cell_type": "markdown",
   "id": "3f502bdd-9ba5-47e4-8aeb-e83e5e1d8898",
   "metadata": {},
   "source": [
    "The table below contains the estimated parameter in the model, the estimated AR(1) coefficient, and the long-run mean which is either equal to the estimated parameters (AR(0) or `ARIMA`), or depends on the ratio of the intercept to 1 minus the AR(1) parameter."
   ]
  },
  {
   "cell_type": "code",
   "execution_count": null,
   "id": "8ff07d0e-6754-4664-93e4-0f9299096868",
   "metadata": {},
   "outputs": [],
   "source": [
    "intercept = [\n",
    "    ar0_res.params[0],\n",
    "    sarimax_res.params[0],\n",
    "    arima_res.params[0],\n",
    "    autoreg_res.params[0],\n",
    "]\n",
    "rho_hat = [0] + [r.params[1] for r in (sarimax_res, arima_res, autoreg_res)]\n",
    "long_run = [\n",
    "    ar0_res.params[0],\n",
    "    sarimax_res.params[0] / (1 - sarimax_res.params[1]),\n",
    "    arima_res.params[0],\n",
    "    autoreg_res.params[0] / (1 - autoreg_res.params[1]),\n",
    "]\n",
    "cols = [\"AR(0)\", \"SARIMAX\", \"ARIMA\", \"AutoReg\"]\n",
    "pd.DataFrame(\n",
    "    [intercept, rho_hat, long_run],\n",
    "    columns=cols,\n",
    "    index=[\"delta-or-phi\", \"rho\", \"long-run mean\"],\n",
    ")"
   ]
  },
  {
   "cell_type": "markdown",
   "id": "4f81803a-0902-4715-a1a6-0a609c8bd614",
   "metadata": {},
   "source": [
    "### Differences between trend and exog in `SARIMAX`\n",
    "\n",
    "When `SARIMAX` includes `exog` variables, then the `exog` are treated as OLS regressors, so that the model estimated is\n",
    "\n",
    "$$\n",
    "\\begin{align}\n",
    "Y_t - X_t \\beta & = \\delta + \\rho (Y_{t-1} - X_{t-1}\\beta) + \\eta_t \\\\\n",
    "\\eta_t & \\sim WN(0,\\sigma^2) \\\\\n",
    "\\end{align}\n",
    "$$\n",
    "\n",
    "In the next example, we omit the trend and instead include a column of 1, which produces a model that is equivalent, in large samples, to the case with no exogenous regressor and `trend=\"c\"`. Here the estimated value of `const` matches the value estimated using `ARIMA`. This happens since both exog in `SARIMAX` and the trend in `ARIMA` are treated as linear regression models with ARMA errors."
   ]
  },
  {
   "cell_type": "code",
   "execution_count": null,
   "id": "c18adf81-1ad9-4d11-a23b-e6d139c1fa3e",
   "metadata": {},
   "outputs": [],
   "source": [
    "sarimax_exog_res = SARIMAX(y, exog=np.ones_like(y), order=(1, 0, 0), trend=\"n\").fit()\n",
    "print(sarimax_exog_res.summary())"
   ]
  },
  {
   "cell_type": "markdown",
   "id": "74d8b733-e74f-4e86-b663-111ab6953b79",
   "metadata": {},
   "source": [
    "### Using `exog` in `SARIMAX` and `ARIMA`\n",
    "\n",
    "While `exog` are treated the same in both models, the intercept continues to differ.  Below we add an exogenous regressor to `y` and then fit the model using all three methods. The data generating process is now\n",
    "\n",
    "$$\n",
    "\\begin{align}\n",
    "Y_t & = \\delta + X_t \\beta + \\epsilon_t \\\\\n",
    "\\epsilon_t & = \\rho \\epsilon_{t-1} + \\eta_t \\\\\n",
    "\\eta_t & \\sim WN(0,\\sigma^2) \\\\\n",
    "\\end{align}\n",
    "$$\n"
   ]
  },
  {
   "cell_type": "code",
   "execution_count": null,
   "id": "8978b4c9-05cb-4674-9c67-53eccd8302a0",
   "metadata": {},
   "outputs": [],
   "source": [
    "x = rng.standard_normal(y.shape)\n",
    "y += 3 * x"
   ]
  },
  {
   "cell_type": "code",
   "execution_count": null,
   "id": "8bebdfd6-cb1b-4c33-a4a5-3eb54fe73e24",
   "metadata": {},
   "outputs": [],
   "source": [
    "sarimax_exog_res = SARIMAX(y, exog=x, order=(1, 0, 0), trend=\"c\").fit()\n",
    "arima_exog_res = ARIMA(y, exog=x, order=(1, 0, 0), trend=\"c\").fit()"
   ]
  },
  {
   "cell_type": "markdown",
   "id": "9015313a-a7b1-436c-a0f0-c567aae09141",
   "metadata": {},
   "source": [
    "Examining the parameter tables, we see that the parameter estimates on `x1` are identical while the estimates of the `intercept` continue to differ due to the differences in the treatment of trends in these estimators."
   ]
  },
  {
   "cell_type": "markdown",
   "id": "34f02944-22c0-47d6-8f53-2f3528a99e1a",
   "metadata": {},
   "source": [
    "#### `SARIMAX`"
   ]
  },
  {
   "cell_type": "code",
   "execution_count": null,
   "id": "573ef935-85d2-49e6-b6a1-0041253fc71a",
   "metadata": {},
   "outputs": [],
   "source": [
    "sarimax_exog_res.summary().tables[1]"
   ]
  },
  {
   "cell_type": "markdown",
   "id": "fb72481a-29db-4e40-bdc4-8023ff81c51a",
   "metadata": {},
   "source": [
    "#### `ARIMA`"
   ]
  },
  {
   "cell_type": "code",
   "execution_count": null,
   "id": "101e7417-d6fc-448c-9d87-9ba44aafcc70",
   "metadata": {},
   "outputs": [],
   "source": [
    "arima_exog_res.summary().tables[1]"
   ]
  },
  {
   "cell_type": "markdown",
   "id": "553c24db-4156-4867-b711-f0e1369c9382",
   "metadata": {},
   "source": [
    "### `exog` in `AutoReg`\n",
    "\n",
    "When using `AutoReg` to estimate a model using OLS, the model differs from both `SARIMAX` and `ARIMA`. The `AutoReg` specification with exogenous variables is \n",
    "\n",
    "$$\n",
    "\\begin{align}\n",
    "Y_t & = \\phi + \\rho Y_{t-1} + X_{t}\\beta + \\eta_t \\\\\n",
    "\\eta_t & \\sim WN(0,\\sigma^2) \\\\\n",
    "\\end{align}\n",
    "$$\n",
    "\n",
    "This specification is not equivalent to the specification estimated in `SARIMAX` and `ARIMA`. Here the difference is non-trival, and naive estimation on the same time series results in different parameter values, even in large samples (and the limit). Estimating this model changes the parameter estimates on the AR(1) coefficient."
   ]
  },
  {
   "cell_type": "markdown",
   "id": "4259b7e0-3624-4724-bdbf-eba073a5efb6",
   "metadata": {},
   "source": [
    "#### `AutoReg`"
   ]
  },
  {
   "cell_type": "code",
   "execution_count": null,
   "id": "3af7fcc8-6e85-4d76-b2c8-e57a782c0884",
   "metadata": {},
   "outputs": [],
   "source": [
    "autoreg_exog_res = AutoReg(y, 1, exog=x, trend=\"c\").fit()\n",
    "autoreg_exog_res.summary().tables[1]"
   ]
  },
  {
   "cell_type": "markdown",
   "id": "170b7189-8efc-4b7e-9243-46e5ee6043cb",
   "metadata": {},
   "source": [
    "The key difference can be seen by writing the model in lag operator notation.\n",
    "\n",
    "$$\n",
    "\\begin{align}\n",
    "(1-\\phi L ) Y_t & = X_{t}\\beta + \\eta_t \\Rightarrow \\\\\n",
    "Y_t & = (1-\\phi L )^{-1}\\left(X_{t}\\beta + \\eta_t\\right) \\\\\n",
    "Y_t & = \\sum_{i=0}^{\\infty} \\phi^i \\left(X_{t-i}\\beta + \\eta_{t-i}\\right)\n",
    "\\end{align}\n",
    "$$\n",
    "\n",
    "where it is is assumed that $|\\phi|<1$.  Here we see that $Y_t$ depends on all lagged values of $X_t$ and $\\eta_t$.  This differs from the specification estimated by `SARIMAX` and `ARIMA`, which can be seen to be\n",
    "\n",
    "$$\n",
    "\\begin{align}\n",
    "Y_t - X_t \\beta & = \\delta + \\rho (Y_{t-1} - X_{t-1}\\beta) + \\eta_t \\\\\n",
    "\\left(1-\\rho L \\right)\\left(Y_t - X_t  \\beta\\right) & = \\delta +  \\eta_t \\\\\n",
    "Y_t - X_t  \\beta & = \\frac{\\delta}{1-\\rho} +  \\left(1-\\rho L \\right)^{-1}\\eta_t \\\\\n",
    "Y_t - X_t  \\beta & = \\frac{\\delta}{1-\\rho} +  \\sum_{i=0}^\\infty \\rho^i \\eta_{t-i} \\\\\n",
    "Y_t  & = \\frac{\\delta}{1-\\rho} + X_t  \\beta +  \\sum_{i=0}^\\infty \\rho^i \\eta_{t-i} \\\\\n",
    "\\end{align}\n",
    "$$\n",
    "\n",
    "In this specification, $Y_t$ only depends on $X_t$ and no other lags."
   ]
  },
  {
   "cell_type": "markdown",
   "id": "869a050c-ea1b-42df-aac3-a14722c109e9",
   "metadata": {},
   "source": [
    "### Using the correct DGP with `AutoReg`\n",
    "\n",
    "Simulating the process that is estimated in `AutoReg` shows that the parameters are recovered from the true model. "
   ]
  },
  {
   "cell_type": "code",
   "execution_count": null,
   "id": "faa9c3a2-aa68-4a9c-ade2-edf4df7798c3",
   "metadata": {},
   "outputs": [],
   "source": [
    "import numpy as np\n",
    "import pandas as pd\n",
    "\n",
    "y = beta + eta\n",
    "epsilon = eta.copy()\n",
    "for i in range(1, eta.shape[0]):\n",
    "    y[i] = beta + rho * y[i - 1] + 3 * x[i] + eta[i]"
   ]
  },
  {
   "cell_type": "markdown",
   "id": "5c37ad9d-dad8-4a51-adba-88b60667698c",
   "metadata": {},
   "source": [
    "#### `AutoReg` with correct DGP"
   ]
  },
  {
   "cell_type": "code",
   "execution_count": null,
   "id": "2734e0db-39ab-4233-90b2-7c60ba48483a",
   "metadata": {},
   "outputs": [],
   "source": [
    "autoreg_alt_exog_res = AutoReg(y, 1, exog=x, trend=\"c\").fit()\n",
    "autoreg_alt_exog_res.summary().tables[1]"
   ]
  },
  {
   "cell_type": "markdown",
   "id": "3a51863e-6799-402b-96a2-b1212ea86216",
   "metadata": {},
   "source": [
    "## Reconstructing residuals, fitted values and forecasts in `SARIMAX` and `ARIMA`\n",
    "\n",
    "TODO: Complete"
   ]
  },
  {
   "cell_type": "markdown",
   "id": "f6b2a9e4-3796-44f1-9476-bf2da357d8b3",
   "metadata": {},
   "source": [
    "## Initial residuals `SARIMAX` and `ARIMA`\n",
    "\n",
    "Residuals for observations before the maximal model order, which depends on the AR, MA, Seasonal AR, Seasonal MA and differencing parameters, are not reliable and should not be used for performance assessment. In general, in an ARIMA with orders $(p,d,q)\\times(P,D,Q,s)$, the formula for residuals that are less well behaved is:\n",
    "\n",
    "$$\n",
    "\\max((P+D)s+p+d,Qs+q)\n",
    "$$\n",
    "\n",
    "We can simulate some data from an ARIMA(1,0,0)(1,0,0,12) and examine the residuals."
   ]
  },
  {
   "cell_type": "code",
   "execution_count": null,
   "id": "43f9387d-b431-4079-b98a-2a76f7e9595a",
   "metadata": {},
   "outputs": [],
   "source": [
    "import numpy as np\n",
    "import pandas as pd\n",
    "\n",
    "rng = np.random.default_rng(20210819)\n",
    "eta = rng.standard_normal(5200)\n",
    "rho = 0.8\n",
    "psi = -0.6\n",
    "beta = 20\n",
    "epsilon = eta.copy()\n",
    "for i in range(13, eta.shape[0]):\n",
    "    epsilon[i] = (\n",
    "        rho * epsilon[i - 1]\n",
    "        + psi * epsilon[i - 12]\n",
    "        - (rho * psi) * epsilon[i - 13]\n",
    "        + eta[i]\n",
    "    )\n",
    "y = beta + epsilon\n",
    "y = y[200:]"
   ]
  },
  {
   "cell_type": "markdown",
   "id": "b8f3e2ca-8022-4940-b1a9-ed5d245c73c7",
   "metadata": {},
   "source": [
    "With a large sample, the parameter estimates are very close to the DGP parameters."
   ]
  },
  {
   "cell_type": "code",
   "execution_count": null,
   "id": "3bcefc73-cfc4-4ae0-9af0-f55aa83bee99",
   "metadata": {},
   "outputs": [],
   "source": [
    "res = ARIMA(y, order=(1, 0, 0), trend=\"c\", seasonal_order=(1, 0, 0, 12)).fit()\n",
    "print(res.summary())"
   ]
  },
  {
   "cell_type": "markdown",
   "id": "0eafd7c5-a796-40a1-b460-9a9163686c3b",
   "metadata": {},
   "source": [
    "We can first examine the initial 13 residuals by plotting against the actual shocks in the model.  While there is a correspondence, it is fairly weak and the correlation is much less than 1."
   ]
  },
  {
   "cell_type": "code",
   "execution_count": null,
   "id": "9cc7fe30-4e40-468a-930e-14bf0aa0d929",
   "metadata": {},
   "outputs": [],
   "source": [
    "import matplotlib.pyplot as plt\n",
    "\n",
    "_ = plt.scatter(res.resid[:13], eta[200 : 200 + 13])"
   ]
  },
  {
   "cell_type": "markdown",
   "id": "1af117bd-a51c-496a-bf1d-0c08a88a8101",
   "metadata": {},
   "source": [
    "Looking at the next 24 residuals and shocks, we see there is nearly perfect correlation. This is expected in large samples once the less accurate residuals are ignored."
   ]
  },
  {
   "cell_type": "code",
   "execution_count": null,
   "id": "12b89d33-1cf2-435a-9dc8-ef04d2d6f8ba",
   "metadata": {},
   "outputs": [],
   "source": [
    "_ = plt.scatter(res.resid[13:37], eta[200 + 13 : 200 + 37])"
   ]
  },
  {
   "cell_type": "markdown",
   "id": "b4a381b2-fcc4-44ee-901c-109cdc02a1f1",
   "metadata": {},
   "source": [
    "Next, we simulate an ARIMA(1,1,0), and include a time trend."
   ]
  },
  {
   "cell_type": "code",
   "execution_count": null,
   "id": "790f834c-8b13-4475-9a09-aea19ace79fe",
   "metadata": {},
   "outputs": [],
   "source": [
    "rng = np.random.default_rng(20210819)\n",
    "eta = rng.standard_normal(5200)\n",
    "rho = 0.8\n",
    "beta = 20\n",
    "epsilon = eta.copy()\n",
    "for i in range(2, eta.shape[0]):\n",
    "    epsilon[i] = (1 + rho) * epsilon[i - 1] - rho * epsilon[i - 2] + eta[i]\n",
    "t = np.arange(epsilon.shape[0])\n",
    "y = beta + 2 * t + epsilon\n",
    "y = y[200:]"
   ]
  },
  {
   "cell_type": "markdown",
   "id": "5521dfb2-3bcc-4a28-b2df-f92e95fe4259",
   "metadata": {},
   "source": [
    "Again the parameter estimates are very close to the DGP parameters."
   ]
  },
  {
   "cell_type": "code",
   "execution_count": null,
   "id": "3d56ebbb-2143-4582-8409-df1c9026a3df",
   "metadata": {},
   "outputs": [],
   "source": [
    "res = ARIMA(y, order=(1, 1, 0), trend=\"t\").fit()\n",
    "print(res.summary())"
   ]
  },
  {
   "cell_type": "markdown",
   "id": "d9626a1d-b742-4a48-b2e5-e10be84e01c7",
   "metadata": {},
   "source": [
    "The residuals are not accurate, and the first residual is approximately 500.  The others are closer, although in this model the first 2 should usually be ignored."
   ]
  },
  {
   "cell_type": "code",
   "execution_count": null,
   "id": "48a1b52b-6506-4e8d-aad5-4d8f80c65f79",
   "metadata": {},
   "outputs": [],
   "source": [
    "res.resid[:5]"
   ]
  },
  {
   "cell_type": "markdown",
   "id": "138445dd-e028-4e29-958f-6ab9f4efe674",
   "metadata": {},
   "source": [
    "The reason why the first residual is so large is that the optimal prediction of this value is the mean of the difference, which is 1.77.  Once the first value is known, the second value makes use o fthe first value in its prediction and the prediction is substantially closer to the truth."
   ]
  },
  {
   "cell_type": "code",
   "execution_count": null,
   "id": "11088c2a-9d7e-4d88-ac26-48a5b5df6867",
   "metadata": {},
   "outputs": [],
   "source": [
    "res.predict(0, 5)"
   ]
  },
  {
   "cell_type": "markdown",
   "id": "cf626404-fbd8-42ab-b6b2-5ffcad3e7b51",
   "metadata": {},
   "source": [
    "It is worth noting that the results class contains two parameters than can be helpful in understanding which residuals are problematic, `loglikelihood_burn` and `nobs_diffuse`."
   ]
  },
  {
   "cell_type": "code",
   "execution_count": null,
   "id": "947f58ee-44bb-45d6-88c9-6757b0be1481",
   "metadata": {},
   "outputs": [],
   "source": [
    "res.loglikelihood_burn, res.nobs_diffuse"
   ]
  }
 ],
 "metadata": {
  "kernelspec": {
   "display_name": "Python 3",
   "language": "python",
   "name": "python3"
  },
  "language_info": {
   "codemirror_mode": {
    "name": "ipython",
    "version": 3
   },
   "file_extension": ".py",
   "mimetype": "text/x-python",
   "name": "python",
   "nbconvert_exporter": "python",
   "pygments_lexer": "ipython3",
   "version": "3.9.6"
  }
 },
 "nbformat": 4,
 "nbformat_minor": 5
}
