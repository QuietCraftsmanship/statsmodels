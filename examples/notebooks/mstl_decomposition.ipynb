{
 "cells": [
  {
   "cell_type": "markdown",
   "id": "adjustable-shadow",
   "metadata": {},
   "source": [
    "# Seasonal-Trend decomposition using LOESS for multiple seasonal components (MSTL)\n",
    "\n",
    "This note book illustrates the use of `MSTL` [1] to decompose a time series into a: trend component, multiple season components, and a residual component. MSTL uses STL to iteratively extract seasonal components from a time series. The key inputs into `MSTL` are:\n",
    "\n",
    "* `periods` - The period of each seasonal component. \n",
    "* `windows` - The lengths of each seasonal smoother with resect to each period. Must be odd. If `None` a set of default values are chosen from the original paper [1].\n",
    "* `lmbda` - The lambda parameter for a Box-Cox transformation prior to decomposition. If `None` then no transformation is done. If `\"auto\"` then an appropriate value for lambda is automatically selected from the data.\n",
    "* `iterate` - Number of iterations to use to refine the seasonal component.\n",
    "\n",
    "[1] K. Bandura, R.J. Hyndman, and C. Bergmeir (2021)\n",
    "    MSTL: A Seasonal-Trend Decomposition Algorithm for Time Series with Multiple\n",
    "    Seasonal Patterns. arXiv preprint arXiv:2107.13462.\n",
    "    \n",
    "Note there are some key differences in this implementation to [1]. Missing data must be handled outside of the `MSTL` class. The algorithm proposed in the paper handles a case when there is no seasonality. This implementation assumes that there is at least one seasonal component.\n",
    "\n",
    "First we import the required packages, prepare the graphics environment, and prepare the data. "
   ]
  },
  {
   "cell_type": "code",
   "execution_count": null,
   "id": "adequate-prior",
   "metadata": {},
   "outputs": [],
   "source": [
    "import matplotlib.pyplot as plt\n",
    "import pandas as pd\n",
    "import numpy as np\n",
    "import seaborn as sns\n",
    "from pandas.plotting import register_matplotlib_converters\n",
    "\n",
    "from statsmodels.tsa.seasonal import MSTL, STL\n",
    "\n",
    "register_matplotlib_converters()\n",
    "sns.set_style(\"darkgrid\")"
   ]
  },
  {
   "cell_type": "code",
   "execution_count": null,
   "id": "adequate-bench",
   "metadata": {},
   "outputs": [],
   "source": [
    "plt.rc(\"figure\", figsize=(16, 12))\n",
    "plt.rc(\"font\", size=13)"
   ]
  },
  {
   "cell_type": "markdown",
   "id": "indoor-plane",
   "metadata": {},
   "source": [
    "# Create a toy data set with multiple seasonalities"
   ]
  },
  {
   "cell_type": "markdown",
   "id": "innovative-memory",
   "metadata": {},
   "source": [
    "We create a time series with hourly frequency that has a daily and weekly seasonality which follow a sine wave."
   ]
  },
  {
   "cell_type": "code",
   "execution_count": null,
   "id": "inappropriate-president",
   "metadata": {},
   "outputs": [],
   "source": [
    "t = np.arange(1, 1000)\n",
    "daily_seasonality = 5 * np.sin(2 * np.pi * t / 24)\n",
    "weekly_seasonality = 10 * np.sin(2 * np.pi * t / (24 * 7))\n",
    "trend = 0.0001 * t**2\n",
    "y = trend + daily_seasonality + weekly_seasonality + np.random.randn(len(t))\n",
    "ts = pd.date_range(start=\"2020-01-01\", freq=\"H\", periods=len(t))\n",
    "df = pd.DataFrame(data=y, index=ts, columns=[\"y\"])"
   ]
  },
  {
   "cell_type": "code",
   "execution_count": null,
   "id": "alien-hardware",
   "metadata": {},
   "outputs": [],
   "source": [
    "df.head()"
   ]
  },
  {
   "cell_type": "markdown",
   "id": "compact-alcohol",
   "metadata": {},
   "source": [
    "Let's plot the time series"
   ]
  },
  {
   "cell_type": "code",
   "execution_count": null,
   "id": "representative-attack",
   "metadata": {},
   "outputs": [],
   "source": [
    "df[\"y\"].plot(figsize=[10, 5])"
   ]
  },
  {
   "cell_type": "markdown",
   "id": "pretty-creator",
   "metadata": {},
   "source": [
    "# Apply decomposition"
   ]
  },
  {
   "cell_type": "code",
   "execution_count": null,
   "id": "equivalent-society",
   "metadata": {},
   "outputs": [],
   "source": [
    "mstl = MSTL(df[\"y\"], periods=[24, 24 * 7])\n",
    "res = mstl.fit()"
   ]
  },
  {
   "cell_type": "markdown",
   "id": "decreased-promise",
   "metadata": {},
   "source": [
    "If the input is a pandas dataframe then the output for the seasonal component is a dataframe. The period for each component is reflect in the column names."
   ]
  },
  {
   "cell_type": "code",
   "execution_count": null,
   "id": "naughty-worth",
   "metadata": {},
   "outputs": [],
   "source": [
    "res.seasonal.head()"
   ]
  },
  {
   "cell_type": "code",
   "execution_count": null,
   "id": "opened-navigation",
   "metadata": {},
   "outputs": [],
   "source": [
    "ax = res.plot()"
   ]
  },
  {
   "cell_type": "markdown",
   "id": "quiet-selling",
   "metadata": {},
   "source": [
    "We see that the hourly and weekly seasonal components have been extracted."
   ]
  },
  {
   "cell_type": "markdown",
   "id": "governmental-offer",
   "metadata": {},
   "source": [
    "Any of the STL parameters other than `period` and `seasonal` (as they are set by `periods` and `windows` in `MSTL`) can also be set by passing arg:value pairs as a dictionary to `stl_kwargs`.\n",
    "\n",
    "Here we show that we can still set the trend smoother of STL via `trend`, although it will result in a worse fit. We will also explicitly set the `windows`, `seasonal_deg`, and `iterate` parameter."
   ]
  },
  {
   "cell_type": "code",
   "execution_count": null,
   "id": "massive-energy",
   "metadata": {},
   "outputs": [],
   "source": [
    "mstl = MSTL(\n",
    "    df,\n",
    "    periods=[24, 24 * 7],  # The periods and windows must be the same length and will correspond to one another\n",
    "    windows=[101, 101],  # Setting this large along with `seasonal_deg=0` will force the seasonality to be periodic\n",
    "    iterate=3,\n",
    "    stl_kwargs={\n",
    "                'trend':1001, # Setting this large will force the trend to be smoother\n",
    "                'seasonal_deg':0 # Means the seasonal smoother is fit with a moving average\n",
    "               }\n",
    ")\n",
    "res = mstl.fit()\n",
    "ax = res.plot()"
   ]
  }
 ],
 "metadata": {
  "kernelspec": {
   "display_name": "Python 3",
   "language": "python",
   "name": "python3"
  },
  "language_info": {
   "codemirror_mode": {
    "name": "ipython",
    "version": 3
   },
   "file_extension": ".py",
   "mimetype": "text/x-python",
   "name": "python",
   "nbconvert_exporter": "python",
   "pygments_lexer": "ipython3",
   "version": "3.8.7"
  }
 },
 "nbformat": 4,
 "nbformat_minor": 5
}
