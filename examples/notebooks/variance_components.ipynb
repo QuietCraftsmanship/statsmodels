{
 "cells": [
  {
   "cell_type": "markdown",
   "metadata": {},
   "source": [
    "This notebook illustrates variance components analysis of a two-level\n",
    "simulated dataset.  In our discussion below, \"Group 2\" is nested within\n",
    "\"Group 1\".  As a concrete example, \"Group 1\" might be school districts,\n",
    "with \"Group 2\" being individual schools."
   ]
  },
  {
   "cell_type": "code",
   "execution_count": null,
   "metadata": {},
   "outputs": [],
   "source": [
    "import numpy as np\n",
    "import statsmodels.api as sm\n",
    "from statsmodels.regression.mixed_linear_model import VCSpec\n",
    "import pandas as pd\n",
    "from scipy import sparse"
   ]
  },
  {
   "cell_type": "markdown",
   "metadata": {},
   "source": [
    "Make the notebook reproducible"
   ]
  },
  {
   "cell_type": "code",
   "execution_count": null,
   "metadata": {
    "lines_to_next_cell": 1
   },
   "outputs": [],
   "source": [
    "np.random.seed(3123)"
   ]
  },
  {
   "cell_type": "code",
   "execution_count": null,
   "metadata": {
    "lines_to_end_of_cell_marker": 0,
    "lines_to_next_cell": 1
   },
   "outputs": [],
   "source": [
    "def generate_nested(n_group1=100, n_group2=10, n_rep=10, group1_sd=2, group2_sd=3, unexplained_sd=4):\n",
    "\n",
    "    n_group1 = 200\n",
    "    n_group2 = 20\n",
    "    n_rep = 10\n",
    "\n",
    "    # Group 1 indicators\n",
    "    group1 = np.kron(np.arange(n_group1), np.ones(n_group2 * n_rep))\n",
    "\n",
    "    # Group 1 effects\n",
    "    u = group1_sd * np.random.normal(size=n_group1)\n",
    "    effects1 = np.kron(u, np.ones(n_group2 * n_rep))\n",
    "\n",
    "    # Group 2 indicators\n",
    "    group2 = np.kron(np.ones(n_group1), np.kron(np.arange(n_group2), np.ones(n_rep)))\n",
    "\n",
    "    # Group 2 effects\n",
    "    u = group2_sd * np.random.normal(size=n_group1*n_group2)\n",
    "    effects2 = np.kron(u, np.ones(n_rep))\n",
    "\n",
    "    e = unexplained_sd * np.random.normal(size=n_group1 * n_group2 * n_rep)\n",
    "    y = effects1 + effects2 + e\n",
    "\n",
    "    df = pd.DataFrame({\"y\":y, \"group1\": group1, \"group2\": group2})\n",
    "\n",
    "    return df"
   ]
  },
  {
   "cell_type": "markdown",
   "metadata": {},
   "source": [
    "Generate a data set to analyze"
   ]
  },
  {
   "cell_type": "code",
   "execution_count": null,
   "metadata": {},
   "outputs": [],
   "source": [
    "df = generate_nested()"
   ]
  },
  {
   "cell_type": "markdown",
   "metadata": {},
   "source": [
    "The population values of \"group 1 Var\" and \"group 2 Var\" are 2^2=4 and 3^2=9,\n",
    "respectively.  The unexplained variance, listed as \"scale\" at the top\n",
    "of the summary table, has population value 4^2=16."
   ]
  },
  {
   "cell_type": "code",
   "execution_count": null,
   "metadata": {
    "lines_to_end_of_cell_marker": 0,
    "lines_to_next_cell": 1
   },
   "outputs": [],
   "source": [
    "model1 = sm.MixedLM.from_formula(\"y ~ 1\", re_formula=\"1\", vc_formula={\"group2\": \"0 + C(group2)\"},\n",
    "                groups=\"group1\", data=df)\n",
    "result1 = model1.fit()\n",
    "print(result1.summary())"
   ]
  },
  {
   "cell_type": "markdown",
   "metadata": {},
   "source": [
    "If we wish to avoid the formula interface, we can build\n",
    "the design matrices manually."
   ]
  },
  {
   "cell_type": "code",
   "execution_count": null,
   "metadata": {
    "lines_to_next_cell": 1
   },
   "outputs": [],
   "source": [
    "def f(x):\n",
    "    n = x.shape[0]\n",
    "    g2 = x.group2\n",
    "    u = g2.unique()\n",
    "    u.sort()\n",
    "    uv = {k:v for k, v in enumerate(u)}\n",
    "    ii = np.arange(n)\n",
    "    jj = [uv[g2[j]] for j in range(n)]\n",
    "    jj = np.asarray(jj)\n",
    "    oo = np.ones(n)\n",
    "    q = len(u)\n",
    "    mat = sparse.coo_matrix((oo, (ii, jj)), shape=(n, q))\n",
    "    mat = np.asarray(mat.todense())\n",
    "    colnames = [\"%d\" % z for z in u]\n",
    "    return mat, colnames"
   ]
  },
  {
   "cell_type": "markdown",
   "metadata": {},
   "source": [
    "Set up the variance components"
   ]
  },
  {
   "cell_type": "code",
   "execution_count": null,
   "metadata": {},
   "outputs": [],
   "source": [
    "vcm = df.groupby(\"group1\").apply(f).to_list()\n",
    "mats = [x[0] for x in vcm]\n",
    "colnames = [x[1] for x in vcm]\n",
    "names = [\"group2\"]\n",
    "vcs = VCSpec(names, [colnames], [mats])"
   ]
  },
  {
   "cell_type": "markdown",
   "metadata": {},
   "source": [
    "Fit the model"
   ]
  },
  {
   "cell_type": "code",
   "execution_count": null,
   "metadata": {
    "lines_to_next_cell": 0
   },
   "outputs": [],
   "source": [
    "oo = np.ones(df.shape[0])\n",
    "model2 = sm.MixedLM(df.y, oo, exog_re=oo, groups=df.group1, exog_vc=vcs)\n",
    "result2 = model2.fit()"
   ]
  },
  {
   "cell_type": "code",
   "execution_count": null,
   "metadata": {},
   "outputs": [],
   "source": []
  },
  {
   "cell_type": "code",
   "execution_count": null,
   "metadata": {},
   "outputs": [],
   "source": []
  }
 ],
 "metadata": {
  "jupytext": {
   "cell_metadata_filter": "-all",
   "main_language": "python",
   "notebook_metadata_filter": "-all"
  }
 },
 "nbformat": 4,
 "nbformat_minor": 2
}
