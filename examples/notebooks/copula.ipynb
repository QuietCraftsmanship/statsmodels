{
 "cells": [
  {
   "cell_type": "markdown",
   "metadata": {},
   "source": [
    "# Copula - Multivariate joint distribution"
   ]
  },
  {
   "cell_type": "code",
   "execution_count": null,
   "metadata": {},
   "outputs": [],
   "source": [
    "import numpy as np\n",
    "from scipy import stats\n",
    "import seaborn as sns\n",
    "import matplotlib.pyplot as plt\n",
    "\n",
    "from statsmodels.distributions.copula.api import GumbelCopula, CopulaDistribution"
   ]
  },
  {
   "cell_type": "markdown",
   "metadata": {},
   "source": [
    "When modeling a system, there are often cases where multiple parameters are involved. Each of these parameters could be discribed with a given Probability Density Function (PDF). If would like to be able to generate a new set of parameter values, we need to be able to sample from these discributions-also called marginals. There are mainly two cases: *(i)* PDFs are independants; *(ii)* there is a dependency. One way to model the dependency it to use a **copula**."
   ]
  },
  {
   "cell_type": "markdown",
   "metadata": {},
   "source": [
    "## Sampling from a copula\n",
    "\n",
    "Let's use a bi-variate example and assume first that we have a prior and know how to model the dependence between our 2 variables.\n",
    "\n",
    "In this case, we are using the Gumbel copula. We can visualize it's 2-dimensional PDF."
   ]
  },
  {
   "cell_type": "code",
   "execution_count": null,
   "metadata": {
    "scrolled": true
   },
   "outputs": [],
   "source": [
    "copula = GumbelCopula()\n",
    "_ = copula.plot_pdf()  # returns a matplotlib figure"
   ]
  },
  {
   "cell_type": "markdown",
   "metadata": {},
   "source": [
    "And we can sample the PDF."
   ]
  },
  {
   "cell_type": "code",
   "execution_count": null,
   "metadata": {},
   "outputs": [],
   "source": [
    "sample = copula.random(10000)\n",
    "h = sns.jointplot(x=sample[:, 0], y=sample[:, 1], kind='hex')\n",
    "h.set_axis_labels('X1', 'X2', fontsize=16)"
   ]
  },
  {
   "cell_type": "markdown",
   "metadata": {},
   "source": [
    "Let's come back to our 2 variables for a second. In this case we consider them to be gamma and normaly distributed. If they would be independent from each other, we could sample from each PDF individually. Here we use a convenient class to do the same operation."
   ]
  },
  {
   "cell_type": "code",
   "execution_count": null,
   "metadata": {
    "scrolled": false
   },
   "outputs": [],
   "source": [
    "marginals = [stats.gamma(2), stats.norm]\n",
    "joint_dist = CopulaDistribution(marginals=marginals, copula=None)\n",
    "sample = joint_dist.random(512)\n",
    "h = sns.jointplot(x=sample[:, 0], y=sample[:, 1], kind='scatter')\n",
    "h.set_axis_labels('X1', 'X2', fontsize=16)"
   ]
  },
  {
   "cell_type": "markdown",
   "metadata": {},
   "source": [
    "Now, above we have expressed the dependency between our variables using a copula, we can use this copula to sample a new set of observation with the same convenient class."
   ]
  },
  {
   "cell_type": "code",
   "execution_count": null,
   "metadata": {},
   "outputs": [],
   "source": [
    "joint_dist = CopulaDistribution(marginals=marginals, copula=copula)\n",
    "sample = joint_dist.random(512)\n",
    "h = sns.jointplot(x=sample[:, 0], y=sample[:, 1], kind='scatter')\n",
    "h.set_axis_labels('X1', 'X2', fontsize=16)"
   ]
  },
  {
   "cell_type": "markdown",
   "metadata": {},
   "source": [
    "There are two things to note here. *(i)* as in the independant case, the marginals are correctly showing a gamma and normal distribution; *(ii)* the dependence is visible between the two variables."
   ]
  },
  {
   "cell_type": "code",
   "execution_count": null,
   "metadata": {},
   "outputs": [],
   "source": []
  }
 ],
 "metadata": {
  "kernelspec": {
   "display_name": "Python 3 (ipykernel)",
   "language": "python",
   "name": "python3"
  },
  "language_info": {
   "codemirror_mode": {
    "name": "ipython",
    "version": 3
   },
   "file_extension": ".py",
   "mimetype": "text/x-python",
   "name": "python",
   "nbconvert_exporter": "python",
   "pygments_lexer": "ipython3",
   "version": "3.9.6"
  }
 },
 "nbformat": 4,
 "nbformat_minor": 4
}
