{
 "cells": [
  {
   "cell_type": "markdown",
   "id": "8732de12-d3f2-4a09-8c39-e5c52a5ac94a",
   "metadata": {},
   "source": [
    "# Autoregressive Distributed Lag (ARDL) models"
   ]
  },
  {
   "cell_type": "code",
   "execution_count": null,
   "id": "f7bb53a8-63a9-4f11-a9db-eb09280d457d",
   "metadata": {},
   "outputs": [],
   "source": [
    "import numpy as np\n",
    "import pandas as pd\n",
    "import seaborn as sns\n",
    "\n",
    "sns.set_style(\"darkgrid\")\n",
    "sns.mpl.rc(\"figure\", figsize=(16, 6))\n",
    "sns.mpl.rc(\"font\", size=14)"
   ]
  },
  {
   "cell_type": "code",
   "execution_count": null,
   "id": "e835b518-53f6-45de-9c93-d397eaa08831",
   "metadata": {},
   "outputs": [],
   "source": [
    "from statsmodels.datasets.danish_data import load\n",
    "from statsmodels.tsa.api import ARDL\n",
    "from statsmodels.tsa.ardl import ardl_select_order\n",
    "\n",
    "data = load().data\n",
    "data = data[[\"lrm\", \"lry\", \"ibo\", \"ide\"]]\n",
    "data.tail()"
   ]
  },
  {
   "cell_type": "code",
   "execution_count": null,
   "id": "6ca52a18-3752-4c65-9043-6c91ba543d44",
   "metadata": {},
   "outputs": [],
   "source": [
    "_ = (data - data.mean()).plot()"
   ]
  },
  {
   "cell_type": "code",
   "execution_count": null,
   "id": "2da134f2-5cf5-484c-833e-b70ddef76d4d",
   "metadata": {},
   "outputs": [],
   "source": [
    "sel_res = ardl_select_order(\n",
    "    data.lrm, 3, data[[\"lry\", \"ibo\", \"ide\"]], 3, ic=\"aic\", trend=\"c\"\n",
    ")\n",
    "sel_res.model.ardl_order"
   ]
  },
  {
   "cell_type": "code",
   "execution_count": null,
   "id": "b5416d92-6b08-4b09-ac70-bccb4711dd7e",
   "metadata": {},
   "outputs": [],
   "source": [
    "res = sel_res.model.fit()\n",
    "res.summary()"
   ]
  },
  {
   "cell_type": "code",
   "execution_count": null,
   "id": "eb24d882-facd-4e61-ad72-0a2ac5e362c8",
   "metadata": {},
   "outputs": [],
   "source": [
    "sel_res = ardl_select_order(\n",
    "    data.lrm, 3, data[[\"lry\", \"ibo\", \"ide\"]], 3, ic=\"bic\", trend=\"c\", glob=True\n",
    ")\n",
    "sel_res.model.ardl_order"
   ]
  },
  {
   "cell_type": "code",
   "execution_count": null,
   "id": "51c98acb-9409-4305-85a0-c62bda98807b",
   "metadata": {},
   "outputs": [],
   "source": [
    "sel_res.model.ar_lags"
   ]
  },
  {
   "cell_type": "code",
   "execution_count": null,
   "id": "546ec94c-6327-4d98-ad8e-a3d62961394b",
   "metadata": {},
   "outputs": [],
   "source": [
    "sel_res.model.dl_lags"
   ]
  },
  {
   "cell_type": "code",
   "execution_count": null,
   "id": "b3b6f0bf-8408-466b-99c9-0bce16213fa9",
   "metadata": {},
   "outputs": [],
   "source": [
    "for i, val in enumerate(sel_res.bic.head(10)):\n",
    "    print(f\"{i+1}: {val}\")"
   ]
  },
  {
   "cell_type": "code",
   "execution_count": null,
   "id": "edc6cca1-acda-4ff0-886a-fcb69866e077",
   "metadata": {},
   "outputs": [],
   "source": [
    "res = ARDL(\n",
    "    data.lrm, 2, data[[\"lry\", \"ibo\", \"ide\"]], {\"lry\": 1, \"ibo\": 2, \"ide\": 3}, trend=\"c\"\n",
    ").fit()\n",
    "res.summary()"
   ]
  },
  {
   "cell_type": "code",
   "execution_count": null,
   "id": "e29bae15-3ad8-4614-a0e7-5e4ed9022d96",
   "metadata": {},
   "outputs": [],
   "source": [
    "res = ARDL(\n",
    "    data.lrm,\n",
    "    2,\n",
    "    data[[\"lry\", \"ibo\", \"ide\"]],\n",
    "    {\"lry\": 1, \"ibo\": 2, \"ide\": 3},\n",
    "    trend=\"c\",\n",
    "    causal=True,\n",
    ").fit()\n",
    "res.summary()"
   ]
  },
  {
   "cell_type": "code",
   "execution_count": null,
   "id": "9645823c-8d25-487e-a34a-5350f0c11912",
   "metadata": {},
   "outputs": [],
   "source": [
    "from statsmodels.tsa.api import UECM\n",
    "\n",
    "sel_res = ardl_select_order(\n",
    "    data.lrm, 3, data[[\"lry\", \"ibo\", \"ide\"]], 3, ic=\"aic\", trend=\"c\"\n",
    ")\n",
    "\n",
    "ecm = UECM.from_ardl(sel_res.model)\n",
    "ecm_res = ecm.fit()\n",
    "ecm_res.summary()"
   ]
  },
  {
   "cell_type": "code",
   "execution_count": null,
   "id": "fed4cc4e-100c-4b6d-bea4-6ed180bda5df",
   "metadata": {},
   "outputs": [],
   "source": [
    "ecm_res.ci_summary()"
   ]
  },
  {
   "cell_type": "code",
   "execution_count": null,
   "id": "b8e12dc7-f12e-442d-b0cd-d081e8f0447b",
   "metadata": {},
   "outputs": [],
   "source": [
    "ecm_res.ci_resids.plot(title=\"Cointegrating Error\")"
   ]
  },
  {
   "cell_type": "code",
   "execution_count": null,
   "id": "3618d391-0136-4d59-9ee8-33eef938f2bc",
   "metadata": {},
   "outputs": [],
   "source": [
    "ecm = UECM(data.lrm, 2, data[[\"lry\", \"ibo\", \"ide\"]], 2, seasonal=True)\n",
    "seasonal_ecm_res = ecm.fit()\n",
    "seasonal_ecm_res.summary()"
   ]
  },
  {
   "cell_type": "code",
   "execution_count": null,
   "id": "d0ac53f2-990a-4379-bf1a-e031c0482150",
   "metadata": {},
   "outputs": [],
   "source": [
    "seasonal_ecm_res.ci_summary()"
   ]
  },
  {
   "cell_type": "code",
   "execution_count": null,
   "id": "cb22aa49-5c7b-4e4e-8382-4b2df05f9980",
   "metadata": {},
   "outputs": [],
   "source": [
    "seasonal_ecm_res.ci_resids.plot(title=\"Cointegrating Error with Seasonality\")"
   ]
  },
  {
   "cell_type": "code",
   "execution_count": null,
   "id": "db8d65eb-2ea5-4ced-bd72-45159dd72787",
   "metadata": {},
   "outputs": [],
   "source": [
    "greene = pd.read_fwf(\"http://www.stern.nyu.edu/~wgreene/Text/Edition7/TableF5-2.txt\")\n",
    "greene.head()"
   ]
  },
  {
   "cell_type": "code",
   "execution_count": null,
   "id": "96110bd7-6445-45c6-838b-cb091c526a9b",
   "metadata": {},
   "outputs": [],
   "source": [
    "index = pd.to_datetime(\n",
    "    greene.Year.astype(\"int\").astype(\"str\")\n",
    "    + \"Q\"\n",
    "    + greene.qtr.astype(\"int\").astype(\"str\")\n",
    ")\n",
    "greene.index = index\n",
    "greene.index.freq = greene.index.inferred_freq\n",
    "greene.head()"
   ]
  },
  {
   "cell_type": "code",
   "execution_count": null,
   "id": "78428267-7756-434f-899a-f40ae180e7e4",
   "metadata": {},
   "outputs": [],
   "source": [
    "greene[\"c\"] = np.log(greene.realcons)\n",
    "greene[\"g\"] = np.log(greene.realgdp)"
   ]
  },
  {
   "cell_type": "code",
   "execution_count": null,
   "id": "d5160337-96e1-429c-8cee-7dd096e1ee04",
   "metadata": {},
   "outputs": [],
   "source": [
    "sel_res = ardl_select_order(\n",
    "    greene.c, 8, greene[[\"g\"]], 8, trend=\"c\", seasonal=True, ic=\"aic\"\n",
    ")\n",
    "ardl = sel_res.model\n",
    "ardl.ardl_order"
   ]
  },
  {
   "cell_type": "code",
   "execution_count": null,
   "id": "deba851b-1617-4ab2-acc5-0909d1835edc",
   "metadata": {},
   "outputs": [],
   "source": [
    "res = ardl.fit(use_t=True)\n",
    "res.summary()"
   ]
  },
  {
   "cell_type": "code",
   "execution_count": null,
   "id": "d4f97468-beaa-47d0-9078-e7eee3d3da64",
   "metadata": {},
   "outputs": [],
   "source": [
    "uecm = UECM.from_ardl(ardl)\n",
    "uecm_res = uecm.fit()\n",
    "uecm_res.summary()"
   ]
  },
  {
   "cell_type": "code",
   "execution_count": null,
   "id": "43a66215-0416-4c6e-8c9f-423d87944a47",
   "metadata": {},
   "outputs": [],
   "source": [
    "uecm_res.ci_summary()"
   ]
  },
  {
   "cell_type": "code",
   "execution_count": null,
   "id": "a4180f7b-65e8-4389-b68a-a7567aca759e",
   "metadata": {},
   "outputs": [],
   "source": [
    "uecm = UECM(greene.c, 3, greene[[\"g\"]], 3, trend=\"c\", seasonal=True)\n",
    "uecm_res = uecm.fit()\n",
    "uecm_res.summary()"
   ]
  },
  {
   "cell_type": "code",
   "execution_count": null,
   "id": "90124be5-398c-4261-ac16-415454d7f468",
   "metadata": {},
   "outputs": [],
   "source": [
    "uecm_res.ci_summary()"
   ]
  },
  {
   "cell_type": "code",
   "execution_count": null,
   "id": "e1667f8f-a2d5-4ac7-b297-1d5fb59177c1",
   "metadata": {},
   "outputs": [],
   "source": [
    "_ = uecm_res.ci_resids.plot(title=\"Cointegrating Error\")"
   ]
  }
 ],
 "metadata": {
  "kernelspec": {
   "display_name": "Python 3 (ipykernel)",
   "language": "python",
   "name": "python3"
  },
  "language_info": {
   "codemirror_mode": {
    "name": "ipython",
    "version": 3
   },
   "file_extension": ".py",
   "mimetype": "text/x-python",
   "name": "python",
   "nbconvert_exporter": "python",
   "pygments_lexer": "ipython3",
   "version": "3.9.6"
  }
 },
 "nbformat": 4,
 "nbformat_minor": 5
}
